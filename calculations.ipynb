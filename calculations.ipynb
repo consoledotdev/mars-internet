{
 "cells": [
  {
   "cell_type": "markdown",
   "source": "# How will the internet work on Mars: Calculations\n\n**Author:** [David Mytton](https://davidmytton.blog/start), [Console](https://console.dev).\n\n**Correspondence:** <david@console.dev>.\n\nThere are many challenges to building human settlements on Mars. The most\nefficient launch opportunity windows only arise every 2.2 years when Mars is\nclosest to Earth. Best journey times are 3-6 months. The atmosphere is\nprimarily CO2, and it is very cold.\n\nOnce we have figured out how to get there and how to reliably support human\nlife (some are aiming for this decade), questions of quality of life become\nrelevant. This includes producing water and food, staying fit and healthy,\nsocialising and entertainment. Normal things humans like to do.\n\nOne of the resources we have come to take for granted is access to the\ninternet. Whether to look up information, send email or watch a video, internet\naccess is now fundamental to modern life. However, all of these services are\nbased on Earth. The internet was designed based on a number of assumptions that\nwill no longer be true if we want to offer the same experience to citizens of\nMars.\n\nIn this article we examine those assumptions, discuss the challenges and\nconsider possible solutions to setting up the internet on Mars. [Read on the\nConsole website](https://console.dev/research/mars/).\n\n## This notebook\n\nThis notebook walks through the calculations used in \n[the article](https://console.dev/research/mars/).\n\n## License\n\n[CC-BY-4.0](https://creativecommons.org/licenses/by/4.0/) i.e. feel free to use\nthe material and calculations but please include a credit back to\n[Console](https://console.dev).",
   "metadata": {
    "tags": [],
    "cell_id": "00000-6583452c-2d3d-4eb4-bda9-c85272ce83aa",
    "deepnote_cell_type": "markdown"
   }
  },
  {
   "cell_type": "markdown",
   "source": "#### Imports",
   "metadata": {
    "tags": [],
    "cell_id": "00001-5e69f1e8-913e-4c09-a397-96da55729d9e",
    "deepnote_cell_type": "markdown"
   }
  },
  {
   "cell_type": "code",
   "metadata": {
    "tags": [],
    "cell_id": "00001-583f0335-4881-4adf-91de-c6d1de7af64b",
    "deepnote_to_be_reexecuted": false,
    "source_hash": "8304ad02",
    "execution_start": 1623075832746,
    "execution_millis": 5681,
    "output_cleared": true,
    "deepnote_cell_type": "code"
   },
   "source": "%pip install -r requirements.txt\n\nimport pandas as pd\nimport pint\nfrom pint import UnitRegistry\n\nureg = UnitRegistry()",
   "execution_count": null,
   "outputs": []
  },
  {
   "cell_type": "markdown",
   "source": "## Problems of distance\n\nIf we assume any data is transmitted at the speed of light directly between the planets, the [large (and varying) distance](https://en.wikipedia.org/wiki/Mars#Closest_approaches) means a single data packet can take a prohibitively long time to reach its destination.",
   "metadata": {
    "tags": [],
    "cell_id": "00003-03ea4ecc-6809-4e49-b0d4-2bb4fef4c947",
    "deepnote_cell_type": "markdown"
   }
  },
  {
   "cell_type": "code",
   "metadata": {
    "tags": [],
    "cell_id": "00004-b3e0c5c7-40c8-4dca-8584-a871b894c8d5",
    "deepnote_to_be_reexecuted": false,
    "source_hash": "7ac4f5df",
    "execution_start": 1623075838463,
    "execution_millis": 51,
    "deepnote_cell_type": "code"
   },
   "source": "# Calculate the speed of light in a vacuum\nlightDistance = 299792458 * ureg.meters\nlightTime = 1 * ureg.second\nc = lightDistance / lightTime # Speed of light\n\n# Distance from Earth to Mars\n# Source: https://en.wikipedia.org/wiki/Mars#Closest_approaches\nmarsDistance = pd.Series([\n    54600000 * ureg.kilometer,\n    401000000 * ureg.kilometer\n])\n\n# Calculate the range of transmission times\nmarsTransmissionFastest = marsDistance.min() / c\nmarsTransmissionMean = marsDistance.values.mean() / c\nmarsTransmissionSlowest = marsDistance.max() / c\n\nmarsTransmission = pd.DataFrame({\n    'One way': {\n        'fastest': marsDistance.min() / c,\n        'average': marsDistance.values.mean() / c,\n        'slowest': marsDistance.max() / c,\n    },\n    'TCP Handshake': {\n        'fastest': (marsDistance.min() / c) * 3,\n        'average': (marsDistance.values.mean() / c) * 3,\n        'slowest': (marsDistance.max() / c) * 3,\n    }\n})\n\n# Display it nicely\nmarsTransmissionDisplay = pd.DataFrame({\n    'One way': {\n        'fastest': f'{marsTransmission[\"One way\"][\"fastest\"].to(\"minutes\"):.3~}',\n        'average': f'{marsTransmission[\"One way\"][\"average\"].to(\"minutes\"):.3~}',\n        'slowest': f'{marsTransmission[\"One way\"][\"slowest\"].to(\"minutes\"):.3~}',\n    },\n    'TCP Handshake': {\n        'fastest': (f'{marsTransmission[\"TCP Handshake\"][\"fastest\"].to(\"minutes\"):.3~}'),\n        'average': (f'{marsTransmission[\"TCP Handshake\"][\"average\"].to(\"minutes\"):.3~}'),\n        'slowest': (f'{marsTransmission[\"TCP Handshake\"][\"slowest\"].to(\"minutes\"):.3~}'),\n    }\n})\n\nmarsTransmissionDisplay",
   "execution_count": null,
   "outputs": [
    {
     "output_type": "execute_result",
     "execution_count": 2,
     "data": {
      "application/vnd.deepnote.dataframe.v2+json": {
       "row_count": 3,
       "column_count": 2,
       "columns": [
        {
         "name": "One way",
         "dtype": "object",
         "stats": {
          "unique_count": 3,
          "nan_count": 0,
          "categories": [
           {
            "name": "3.04 min",
            "count": 1
           },
           {
            "name": "12.7 min",
            "count": 1
           },
           {
            "name": "22.3 min",
            "count": 1
           }
          ]
         }
        },
        {
         "name": "TCP Handshake",
         "dtype": "object",
         "stats": {
          "unique_count": 3,
          "nan_count": 0,
          "categories": [
           {
            "name": "9.11 min",
            "count": 1
           },
           {
            "name": "38.0 min",
            "count": 1
           },
           {
            "name": "66.9 min",
            "count": 1
           }
          ]
         }
        },
        {
         "name": "_deepnote_index_column",
         "dtype": "object"
        }
       ],
       "rows_top": [
        {
         "One way": "3.04 min",
         "TCP Handshake": "9.11 min",
         "_deepnote_index_column": "fastest"
        },
        {
         "One way": "12.7 min",
         "TCP Handshake": "38.0 min",
         "_deepnote_index_column": "average"
        },
        {
         "One way": "22.3 min",
         "TCP Handshake": "66.9 min",
         "_deepnote_index_column": "slowest"
        }
       ],
       "rows_bottom": null
      },
      "text/plain": "          One way TCP Handshake\nfastest  3.04 min      9.11 min\naverage  12.7 min      38.0 min\nslowest  22.3 min      66.9 min",
      "text/html": "<div>\n<style scoped>\n    .dataframe tbody tr th:only-of-type {\n        vertical-align: middle;\n    }\n\n    .dataframe tbody tr th {\n        vertical-align: top;\n    }\n\n    .dataframe thead th {\n        text-align: right;\n    }\n</style>\n<table border=\"1\" class=\"dataframe\">\n  <thead>\n    <tr style=\"text-align: right;\">\n      <th></th>\n      <th>One way</th>\n      <th>TCP Handshake</th>\n    </tr>\n  </thead>\n  <tbody>\n    <tr>\n      <th>fastest</th>\n      <td>3.04 min</td>\n      <td>9.11 min</td>\n    </tr>\n    <tr>\n      <th>average</th>\n      <td>12.7 min</td>\n      <td>38.0 min</td>\n    </tr>\n    <tr>\n      <th>slowest</th>\n      <td>22.3 min</td>\n      <td>66.9 min</td>\n    </tr>\n  </tbody>\n</table>\n</div>"
     },
     "metadata": {}
    }
   ]
  },
  {
   "cell_type": "markdown",
   "source": "## Sending large files to Mars\n\nRather than connecting the planets directly, an alternative approach would be to periodically package up the content generated on Earth and physically ship it on the regular missions planned by the likes of SpaceX. Data would be generated on both planets, then asynchronously synced up later.\n\nThis might look something like the [AWS Snowmobile](https://aws.amazon.com/snowmobile/) which allows transferring up to 100PB of data inside a shipping container.\n\n### Storage costs\n\nAt a list price of US$0.005/GB/month and 100PB maximum capacity, how much would the storage cost be given a 6 month journey time?",
   "metadata": {
    "tags": [],
    "cell_id": "00005-abdfb772-9cc0-435d-98cf-8bf3bbf67d15",
    "deepnote_cell_type": "markdown"
   }
  },
  {
   "cell_type": "code",
   "metadata": {
    "tags": [],
    "cell_id": "00006-cf31191e-1ec9-4e93-8994-3e3a328e602f",
    "deepnote_to_be_reexecuted": false,
    "source_hash": "b050808a",
    "execution_start": 1623075838511,
    "execution_millis": 7,
    "deepnote_cell_type": "code"
   },
   "source": "# Probably a way to create a custom pint unit for this calculation\n# Feel free to submit a PR if you have time to implement it!\nstorageCapacity = 100 * ureg.petabytes\njourneyTime = 6 * ureg.months\nstorageCost = 0.005 * storageCapacity.to('gigabytes').magnitude * journeyTime.to('months').magnitude\n\nprint(f'Storage cost: US${storageCost:,.0f}')",
   "execution_count": null,
   "outputs": [
    {
     "name": "stdout",
     "text": "Storage cost: US$3,000,000\n",
     "output_type": "stream"
    }
   ]
  },
  {
   "cell_type": "markdown",
   "source": "### Shipping cost\n\n[Elon Musk's aspirational goal](https://www.commerce.senate.gov/2004/5/space-shuttle-and-the-future-of-space-launch-vehicles) is US$500 per pound of payload delivered to Earth orbit, so what is the minimum launch cost?",
   "metadata": {
    "tags": [],
    "cell_id": "00007-4d62f046-3b6a-4be4-bb0c-859d50e975e9",
    "deepnote_cell_type": "markdown"
   }
  },
  {
   "cell_type": "code",
   "metadata": {
    "tags": [],
    "cell_id": "00008-09d2ad2b-1737-4ac0-98f6-c7087ae54dfa",
    "deepnote_to_be_reexecuted": false,
    "source_hash": "bee7ad30",
    "execution_start": 1623075838555,
    "execution_millis": 2258568029,
    "deepnote_cell_type": "code"
   },
   "source": "costPerPound = 500\nsnowmobileWeight = 68000 # Source: https://aws.amazon.com/snowmobile/faqs/\nshippingCost = 500 * snowmobileWeight\n\nprint(f'Storage cost: US${shippingCost:,.0f}')",
   "execution_count": null,
   "outputs": [
    {
     "name": "stdout",
     "text": "Storage cost: US$34,000,000\n",
     "output_type": "stream"
    }
   ]
  },
  {
   "cell_type": "markdown",
   "source": "The problem is that this is just to Earth orbit and the Falcon Heavy maximum Mars launch capability (37,040 lbs / 16,800 kg) is much less than the weight of the AWS Snowmobile device.  This might mean using AWS Snowball devices instead, which in storage optimized mode can transport up to 80TB each. These [weigh 49.7 lbs (22.54 kg) each](https://docs.aws.amazon.com/snowball/latest/developer-guide/specifications.html).\n\nWhat could a single Falcon Heavy send to Mars?",
   "metadata": {
    "tags": [],
    "cell_id": "00009-091651e0-9a9a-4696-9b0b-d688ff188bbd",
    "deepnote_cell_type": "markdown"
   }
  },
  {
   "cell_type": "code",
   "metadata": {
    "tags": [],
    "cell_id": "00010-55566518-d255-4dbb-83a1-2ca708be7d0f",
    "deepnote_to_be_reexecuted": false,
    "source_hash": "5c236dd2",
    "execution_start": 1623075838556,
    "execution_millis": 2258568010,
    "output_cleared": false,
    "deepnote_cell_type": "code"
   },
   "source": "falconHeavyMarsCapacity = 37040 * ureg.lbs\nawsSnowballWeight = 49.7 * ureg.lbs\nawsSnowballCapacity = 80 * ureg.terabyte\nawsSnowballPerFalconHeavy = falconHeavyMarsCapacity / awsSnowballWeight\ncapacityPerFalconHeavy = awsSnowballPerFalconHeavy * awsSnowballCapacity\n\nprint(f'{awsSnowballPerFalconHeavy.magnitude:.0f} AWS Snowball devices carrying a total of {capacityPerFalconHeavy.to(\"petabyte\"):,.0f~} of data.')",
   "execution_count": null,
   "outputs": [
    {
     "name": "stdout",
     "text": "745 AWS Snowball devices carrying a total of 60 PB of data.\n",
     "output_type": "stream"
    }
   ]
  },
  {
   "cell_type": "markdown",
   "source": "## Sending YouTube to Mars\n\nBack in 2015, [YouTube was said to generate around 35PB of data per year](https://www.quora.com/What-is-the-total-capacity-of-YouTube-storage/answer/Rasty-Turek), and had at least 400PB of total storage requirements. If that had just continued to grow at the same rate, the total storage for YouTube would now have reached over 600PB.\n\nWhat would it take to send all of YouTube to Mars?",
   "metadata": {
    "tags": [],
    "cell_id": "00011-6fa6e960-d899-4538-8156-7fe3a794d848",
    "deepnote_cell_type": "markdown"
   }
  },
  {
   "cell_type": "code",
   "metadata": {
    "tags": [],
    "cell_id": "00012-65fd7cee-8692-43de-b741-0ad49b42e7ed",
    "deepnote_to_be_reexecuted": false,
    "source_hash": "69b804e6",
    "execution_start": 1623075838557,
    "execution_millis": 2,
    "deepnote_cell_type": "code"
   },
   "source": "youtubeTotal = 600 * ureg.petabytes\n\n# What is the storage cost?\nawsSnowballDailyCost = 50 # US$ from # https://aws.amazon.com/snowball/pricing/\n# 1 or 3 yr commit discounts are available, which would probably be a good idea\njourneyCostPerSnowmobile = journeyTime.to('days').magnitude * awsSnowballDailyCost\nstorageCostPerFalconHeavy = journeyCostPerSnowmobile * awsSnowballPerFalconHeavy\n\n# How many Falcon Heavy launches would be needed?\nfalconHeavyCount = youtubeTotal.magnitude / capacityPerFalconHeavy.to('petabyte').magnitude\nfalconHeavyUnitCost = 94000000 # Launch cost to Mars $94m assuming all stages recoverable\n\nstorageCost = falconHeavyCount * storageCostPerFalconHeavy\nshippingCost = falconHeavyCount * falconHeavyUnitCost\n\nprint(f'Storage cost: US${storageCost.magnitude:,.0f}')\nprint(f'Shipping cost: US${shippingCost:,.0f} for {falconHeavyCount:.0f} Falcon Heavy launches')\n\ntotalCost = storageCost + shippingCost\nprint(f'Total cost: US${totalCost.magnitude:,.0f}')",
   "execution_count": null,
   "outputs": [
    {
     "name": "stdout",
     "text": "Storage cost: US$68,484,375\nShipping cost: US$945,963,823 for 10 Falcon Heavy launches\nTotal cost: US$1,014,448,198\n",
     "output_type": "stream"
    }
   ]
  },
  {
   "cell_type": "markdown",
   "source": "<a style='text-decoration:none;line-height:16px;display:flex;color:#5B5B62;padding:10px;justify-content:end;' href='https://deepnote.com?utm_source=created-in-deepnote-cell&projectId=2c24d71c-4d5b-49bc-a83f-df669e53db37' target=\"_blank\">\n<img alt='Created in deepnote.com' style='display:inline;max-height:16px;margin:0px;margin-right:7.5px;' src='data:image/svg+xml;base64,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' > </img>\nCreated in <span style='font-weight:600;margin-left:4px;'>Deepnote</span></a>",
   "metadata": {
    "tags": [],
    "created_in_deepnote_cell": true,
    "deepnote_cell_type": "markdown"
   }
  }
 ],
 "nbformat": 4,
 "nbformat_minor": 2,
 "metadata": {
  "orig_nbformat": 2,
  "deepnote": {
   "is_reactive": false
  },
  "deepnote_notebook_id": "e8c8ed28-5da0-4bc0-b4be-29da6d7587ce",
  "deepnote_execution_queue": []
 }
}